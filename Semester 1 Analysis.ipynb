{
 "cells": [
  {
   "cell_type": "markdown",
   "id": "04d95509",
   "metadata": {},
   "source": [
    "# Semester 1 Analysis"
   ]
  },
  {
   "cell_type": "code",
   "execution_count": 10,
   "id": "09d5ef46",
   "metadata": {},
   "outputs": [],
   "source": [
    "import pandas as pd\n",
    "import matplotlib\n",
    "import matplotlib.pyplot as plt\n",
    "import numpy as np\n",
    "%matplotlib inline"
   ]
  },
  {
   "cell_type": "code",
   "execution_count": 2,
   "id": "b333bd56",
   "metadata": {},
   "outputs": [],
   "source": [
    "issues_df = pd.read_csv(\"Issues - Sheet1.csv\")"
   ]
  },
  {
   "cell_type": "code",
   "execution_count": 30,
   "id": "08c76961",
   "metadata": {},
   "outputs": [
    {
     "data": {
      "text/html": [
       "<div>\n",
       "<style scoped>\n",
       "    .dataframe tbody tr th:only-of-type {\n",
       "        vertical-align: middle;\n",
       "    }\n",
       "\n",
       "    .dataframe tbody tr th {\n",
       "        vertical-align: top;\n",
       "    }\n",
       "\n",
       "    .dataframe thead th {\n",
       "        text-align: right;\n",
       "    }\n",
       "</style>\n",
       "<table border=\"1\" class=\"dataframe\">\n",
       "  <thead>\n",
       "    <tr style=\"text-align: right;\">\n",
       "      <th></th>\n",
       "      <th>Issue Number</th>\n",
       "      <th>Original Estimate</th>\n",
       "      <th>Actual Estimate</th>\n",
       "      <th>Asignee</th>\n",
       "      <th>Number of Sprints</th>\n",
       "      <th>Date Assigned</th>\n",
       "      <th>Delta</th>\n",
       "    </tr>\n",
       "  </thead>\n",
       "  <tbody>\n",
       "    <tr>\n",
       "      <th>0</th>\n",
       "      <td>2</td>\n",
       "      <td>1</td>\n",
       "      <td>2</td>\n",
       "      <td>Priyavart</td>\n",
       "      <td>2</td>\n",
       "      <td>Oct 4, 2021</td>\n",
       "      <td>1</td>\n",
       "    </tr>\n",
       "    <tr>\n",
       "      <th>1</th>\n",
       "      <td>26</td>\n",
       "      <td>1</td>\n",
       "      <td>3</td>\n",
       "      <td>Kaitlin</td>\n",
       "      <td>1</td>\n",
       "      <td>Oct 3, 2021</td>\n",
       "      <td>2</td>\n",
       "    </tr>\n",
       "    <tr>\n",
       "      <th>2</th>\n",
       "      <td>27</td>\n",
       "      <td>1</td>\n",
       "      <td>1</td>\n",
       "      <td>Dylan</td>\n",
       "      <td>2</td>\n",
       "      <td>Oct 4, 2021</td>\n",
       "      <td>0</td>\n",
       "    </tr>\n",
       "    <tr>\n",
       "      <th>3</th>\n",
       "      <td>28</td>\n",
       "      <td>1</td>\n",
       "      <td>2</td>\n",
       "      <td>Noah</td>\n",
       "      <td>2</td>\n",
       "      <td>Oct 4, 2021</td>\n",
       "      <td>1</td>\n",
       "    </tr>\n",
       "    <tr>\n",
       "      <th>4</th>\n",
       "      <td>29</td>\n",
       "      <td>1</td>\n",
       "      <td>2</td>\n",
       "      <td>Roxanne</td>\n",
       "      <td>2</td>\n",
       "      <td>Oct 4, 2021</td>\n",
       "      <td>1</td>\n",
       "    </tr>\n",
       "    <tr>\n",
       "      <th>5</th>\n",
       "      <td>30</td>\n",
       "      <td>3</td>\n",
       "      <td>3</td>\n",
       "      <td>Dylan</td>\n",
       "      <td>1</td>\n",
       "      <td>Oct 4, 2021</td>\n",
       "      <td>0</td>\n",
       "    </tr>\n",
       "    <tr>\n",
       "      <th>6</th>\n",
       "      <td>31</td>\n",
       "      <td>2</td>\n",
       "      <td>8</td>\n",
       "      <td>Kaitlin</td>\n",
       "      <td>5</td>\n",
       "      <td>Oct 6, 2021</td>\n",
       "      <td>6</td>\n",
       "    </tr>\n",
       "    <tr>\n",
       "      <th>7</th>\n",
       "      <td>35</td>\n",
       "      <td>2</td>\n",
       "      <td>3</td>\n",
       "      <td>Dylan</td>\n",
       "      <td>2</td>\n",
       "      <td>Oct 6, 2021</td>\n",
       "      <td>1</td>\n",
       "    </tr>\n",
       "    <tr>\n",
       "      <th>8</th>\n",
       "      <td>36</td>\n",
       "      <td>3</td>\n",
       "      <td>3</td>\n",
       "      <td>Kaitlin</td>\n",
       "      <td>4</td>\n",
       "      <td>Oct 6, 2021</td>\n",
       "      <td>0</td>\n",
       "    </tr>\n",
       "    <tr>\n",
       "      <th>9</th>\n",
       "      <td>36</td>\n",
       "      <td>3</td>\n",
       "      <td>3</td>\n",
       "      <td>Roxanne</td>\n",
       "      <td>4</td>\n",
       "      <td>Oct 6, 2021</td>\n",
       "      <td>0</td>\n",
       "    </tr>\n",
       "    <tr>\n",
       "      <th>10</th>\n",
       "      <td>38</td>\n",
       "      <td>3</td>\n",
       "      <td>8</td>\n",
       "      <td>Kaitlin</td>\n",
       "      <td>3</td>\n",
       "      <td>Oct 6, 2021</td>\n",
       "      <td>5</td>\n",
       "    </tr>\n",
       "    <tr>\n",
       "      <th>11</th>\n",
       "      <td>39</td>\n",
       "      <td>3</td>\n",
       "      <td>8</td>\n",
       "      <td>Dylan</td>\n",
       "      <td>3</td>\n",
       "      <td>Oct 6, 2021</td>\n",
       "      <td>5</td>\n",
       "    </tr>\n",
       "    <tr>\n",
       "      <th>12</th>\n",
       "      <td>40</td>\n",
       "      <td>3</td>\n",
       "      <td>8</td>\n",
       "      <td>Noah</td>\n",
       "      <td>3</td>\n",
       "      <td>Oct 6, 2021</td>\n",
       "      <td>5</td>\n",
       "    </tr>\n",
       "    <tr>\n",
       "      <th>13</th>\n",
       "      <td>41</td>\n",
       "      <td>3</td>\n",
       "      <td>8</td>\n",
       "      <td>Priyavart</td>\n",
       "      <td>3</td>\n",
       "      <td>Oct 6, 2021</td>\n",
       "      <td>5</td>\n",
       "    </tr>\n",
       "    <tr>\n",
       "      <th>14</th>\n",
       "      <td>42</td>\n",
       "      <td>3</td>\n",
       "      <td>5</td>\n",
       "      <td>Roxanne</td>\n",
       "      <td>3</td>\n",
       "      <td>Oct 6, 2021</td>\n",
       "      <td>2</td>\n",
       "    </tr>\n",
       "    <tr>\n",
       "      <th>15</th>\n",
       "      <td>47</td>\n",
       "      <td>3</td>\n",
       "      <td>5</td>\n",
       "      <td>Kaitlin</td>\n",
       "      <td>2</td>\n",
       "      <td>Oct 25, 2021</td>\n",
       "      <td>2</td>\n",
       "    </tr>\n",
       "    <tr>\n",
       "      <th>16</th>\n",
       "      <td>49</td>\n",
       "      <td>5</td>\n",
       "      <td>5</td>\n",
       "      <td>Roxanne</td>\n",
       "      <td>1</td>\n",
       "      <td>Nov 1, 2021</td>\n",
       "      <td>0</td>\n",
       "    </tr>\n",
       "    <tr>\n",
       "      <th>17</th>\n",
       "      <td>50</td>\n",
       "      <td>3</td>\n",
       "      <td>3</td>\n",
       "      <td>Dylan</td>\n",
       "      <td>1</td>\n",
       "      <td>Nov 1, 2021</td>\n",
       "      <td>0</td>\n",
       "    </tr>\n",
       "    <tr>\n",
       "      <th>18</th>\n",
       "      <td>51</td>\n",
       "      <td>3</td>\n",
       "      <td>8</td>\n",
       "      <td>Dylan</td>\n",
       "      <td>2</td>\n",
       "      <td>Nov 1, 2021</td>\n",
       "      <td>5</td>\n",
       "    </tr>\n",
       "    <tr>\n",
       "      <th>19</th>\n",
       "      <td>51</td>\n",
       "      <td>3</td>\n",
       "      <td>8</td>\n",
       "      <td>Priyavart</td>\n",
       "      <td>2</td>\n",
       "      <td>Nov 1, 2021</td>\n",
       "      <td>5</td>\n",
       "    </tr>\n",
       "    <tr>\n",
       "      <th>20</th>\n",
       "      <td>52</td>\n",
       "      <td>5</td>\n",
       "      <td>5</td>\n",
       "      <td>Dylan</td>\n",
       "      <td>1</td>\n",
       "      <td>Nov 1, 2021</td>\n",
       "      <td>0</td>\n",
       "    </tr>\n",
       "    <tr>\n",
       "      <th>21</th>\n",
       "      <td>53</td>\n",
       "      <td>5</td>\n",
       "      <td>5</td>\n",
       "      <td>Priyavart</td>\n",
       "      <td>2</td>\n",
       "      <td>Nov 1, 2021</td>\n",
       "      <td>0</td>\n",
       "    </tr>\n",
       "    <tr>\n",
       "      <th>22</th>\n",
       "      <td>55</td>\n",
       "      <td>5</td>\n",
       "      <td>8</td>\n",
       "      <td>Kaitlin</td>\n",
       "      <td>3</td>\n",
       "      <td>Nov 1, 2021</td>\n",
       "      <td>3</td>\n",
       "    </tr>\n",
       "    <tr>\n",
       "      <th>23</th>\n",
       "      <td>56</td>\n",
       "      <td>3</td>\n",
       "      <td>8</td>\n",
       "      <td>Kaitlin</td>\n",
       "      <td>3</td>\n",
       "      <td>Nov 1, 2021</td>\n",
       "      <td>5</td>\n",
       "    </tr>\n",
       "    <tr>\n",
       "      <th>24</th>\n",
       "      <td>62</td>\n",
       "      <td>3</td>\n",
       "      <td>1</td>\n",
       "      <td>Roxanne</td>\n",
       "      <td>1</td>\n",
       "      <td>Nov 16, 2021</td>\n",
       "      <td>-2</td>\n",
       "    </tr>\n",
       "    <tr>\n",
       "      <th>25</th>\n",
       "      <td>68</td>\n",
       "      <td>5</td>\n",
       "      <td>5</td>\n",
       "      <td>Priyavart</td>\n",
       "      <td>2</td>\n",
       "      <td>Nov 16, 2021</td>\n",
       "      <td>0</td>\n",
       "    </tr>\n",
       "    <tr>\n",
       "      <th>26</th>\n",
       "      <td>69</td>\n",
       "      <td>5</td>\n",
       "      <td>5</td>\n",
       "      <td>Dylan</td>\n",
       "      <td>2</td>\n",
       "      <td>Nov 16, 2021</td>\n",
       "      <td>0</td>\n",
       "    </tr>\n",
       "  </tbody>\n",
       "</table>\n",
       "</div>"
      ],
      "text/plain": [
       "    Issue Number  Original Estimate  Actual Estimate    Asignee  \\\n",
       "0              2                  1                2  Priyavart   \n",
       "1             26                  1                3    Kaitlin   \n",
       "2             27                  1                1      Dylan   \n",
       "3             28                  1                2       Noah   \n",
       "4             29                  1                2    Roxanne   \n",
       "5             30                  3                3      Dylan   \n",
       "6             31                  2                8    Kaitlin   \n",
       "7             35                  2                3      Dylan   \n",
       "8             36                  3                3    Kaitlin   \n",
       "9             36                  3                3    Roxanne   \n",
       "10            38                  3                8    Kaitlin   \n",
       "11            39                  3                8      Dylan   \n",
       "12            40                  3                8       Noah   \n",
       "13            41                  3                8  Priyavart   \n",
       "14            42                  3                5    Roxanne   \n",
       "15            47                  3                5    Kaitlin   \n",
       "16            49                  5                5    Roxanne   \n",
       "17            50                  3                3      Dylan   \n",
       "18            51                  3                8      Dylan   \n",
       "19            51                  3                8  Priyavart   \n",
       "20            52                  5                5      Dylan   \n",
       "21            53                  5                5  Priyavart   \n",
       "22            55                  5                8    Kaitlin   \n",
       "23            56                  3                8    Kaitlin   \n",
       "24            62                  3                1    Roxanne   \n",
       "25            68                  5                5  Priyavart   \n",
       "26            69                  5                5      Dylan   \n",
       "\n",
       "    Number of Sprints  Date Assigned  Delta  \n",
       "0                    2   Oct 4, 2021      1  \n",
       "1                    1   Oct 3, 2021      2  \n",
       "2                    2   Oct 4, 2021      0  \n",
       "3                    2   Oct 4, 2021      1  \n",
       "4                    2   Oct 4, 2021      1  \n",
       "5                    1   Oct 4, 2021      0  \n",
       "6                    5   Oct 6, 2021      6  \n",
       "7                    2   Oct 6, 2021      1  \n",
       "8                    4   Oct 6, 2021      0  \n",
       "9                    4   Oct 6, 2021      0  \n",
       "10                   3   Oct 6, 2021      5  \n",
       "11                   3   Oct 6, 2021      5  \n",
       "12                   3   Oct 6, 2021      5  \n",
       "13                   3   Oct 6, 2021      5  \n",
       "14                   3   Oct 6, 2021      2  \n",
       "15                   2  Oct 25, 2021      2  \n",
       "16                   1   Nov 1, 2021      0  \n",
       "17                   1   Nov 1, 2021      0  \n",
       "18                   2   Nov 1, 2021      5  \n",
       "19                   2   Nov 1, 2021      5  \n",
       "20                   1   Nov 1, 2021      0  \n",
       "21                   2   Nov 1, 2021      0  \n",
       "22                   3   Nov 1, 2021      3  \n",
       "23                   3   Nov 1, 2021      5  \n",
       "24                   1  Nov 16, 2021     -2  \n",
       "25                   2  Nov 16, 2021      0  \n",
       "26                   2  Nov 16, 2021      0  "
      ]
     },
     "execution_count": 30,
     "metadata": {},
     "output_type": "execute_result"
    }
   ],
   "source": [
    "issues_df"
   ]
  },
  {
   "cell_type": "code",
   "execution_count": 6,
   "id": "123ce537",
   "metadata": {},
   "outputs": [],
   "source": [
    "issues_df['Delta'] = issues_df['Actual Estimate'] - issues_df['Original Estimate']"
   ]
  },
  {
   "cell_type": "code",
   "execution_count": 9,
   "id": "a29e9760",
   "metadata": {},
   "outputs": [
    {
     "data": {
      "text/plain": [
       "<AxesSubplot:>"
      ]
     },
     "execution_count": 9,
     "metadata": {},
     "output_type": "execute_result"
    },
    {
     "data": {
      "image/png": "[encoded data removed]",
      "text/plain": [
       "<Figure size 432x288 with 1 Axes>"
      ]
     },
     "metadata": {
      "needs_background": "light"
     },
     "output_type": "display_data"
    }
   ],
   "source": [
    "issues_df[ 'Delta'].hist()"
   ]
  },
  {
   "cell_type": "code",
   "execution_count": 17,
   "id": "edba5e13",
   "metadata": {},
   "outputs": [
    {
     "data": {
      "image/png": "[encoded data removed]",
      "text/plain": [
       "<Figure size 720x576 with 1 Axes>"
      ]
     },
     "metadata": {
      "needs_background": "light"
     },
     "output_type": "display_data"
    }
   ],
   "source": [
    "import matplotlib.pyplot as plt\n",
    "import numpy as np\n",
    "\n",
    "fig, ax = plt.subplots(figsize=(10, 8))\n",
    "#plot the number of people \n",
    "data = issues_df[\"Delta\"].to_numpy()\n",
    "\n",
    "N, bins, patches = ax.hist(data, edgecolor='white', bins=8, linewidth=1)\n",
    "\n",
    "\n",
    "# patches[0].set_facecolor('red')\n",
    "# patches[1].set_facecolor('orange')\n",
    "# patches[2].set_facecolor('blue')\n",
    "# patches[3].set_facecolor('cyan')\n",
    "# patches[4].set_facecolor('magenta')\n",
    "# patches[5].set_facecolor('#5599ff')\n",
    "\n",
    "for i in range(0, len(patches)):\n",
    "    patches[i].set_facecolor('magenta')\n",
    "\n",
    "plt.xlim([-2, 7])\n",
    "plt.xticks(np.arange(-2, 8, 1.0))\n",
    "\n",
    "plt.xlabel(\"Delta\")\n",
    "plt.ylabel(\"Number of Issues\")\n",
    "plt.grid(axis='y')\n",
    "plt.title(label=\"Histogram of Issue Deltas\")\n",
    "# bins_labels(bins, fontsize=20)\n",
    "\n",
    "plt.show()"
   ]
  },
  {
   "cell_type": "code",
   "execution_count": 19,
   "id": "80cfe5d6",
   "metadata": {},
   "outputs": [],
   "source": [
    "groups = issues_df.groupby('Asignee') "
   ]
  },
  {
   "cell_type": "code",
   "execution_count": 33,
   "id": "508d22f7",
   "metadata": {
    "scrolled": false
   },
   "outputs": [
    {
     "data": {
      "image/png": "[encoded data removed]",
      "text/plain": [
       "<Figure size 720x720 with 1 Axes>"
      ]
     },
     "metadata": {
      "needs_background": "light"
     },
     "output_type": "display_data"
    },
    {
     "data": {
      "image/png": "[encoded data removed]",
      "text/plain": [
       "<Figure size 720x720 with 1 Axes>"
      ]
     },
     "metadata": {
      "needs_background": "light"
     },
     "output_type": "display_data"
    },
    {
     "data": {
      "image/png": "[encoded data removed]",
      "text/plain": [
       "<Figure size 720x720 with 1 Axes>"
      ]
     },
     "metadata": {
      "needs_background": "light"
     },
     "output_type": "display_data"
    },
    {
     "data": {
      "image/png": "[encoded data removed]",
      "text/plain": [
       "<Figure size 720x720 with 1 Axes>"
      ]
     },
     "metadata": {
      "needs_background": "light"
     },
     "output_type": "display_data"
    },
    {
     "data": {
      "image/png": "[encoded data removed]",
      "text/plain": [
       "<Figure size 720x720 with 1 Axes>"
      ]
     },
     "metadata": {
      "needs_background": "light"
     },
     "output_type": "display_data"
    }
   ],
   "source": [
    "for name, group in groups:\n",
    "    fig, ax = plt.subplots(figsize=(10, 10))\n",
    "    group[\"Delta\"].hist()\n",
    "    plt.xlabel(\"Delta\")\n",
    "    plt.ylabel(\"Number of Issues\")\n",
    "    plt.grid(axis=\"x\")\n",
    "    plt.title(label=\"Histogram of Issue Deltas for Developer: {}\".format(name))\n",
    "    \n",
    "    plt.show()"
   ]
  },
  {
   "cell_type": "code",
   "execution_count": null,
   "id": "533e9b97",
   "metadata": {},
   "outputs": [],
   "source": []
  }
 ],
 "metadata": {
  "kernelspec": {
   "display_name": "Python 3 (ipykernel)",
   "language": "python",
   "name": "python3"
  },
  "language_info": {
   "codemirror_mode": {
    "name": "ipython",
    "version": 3
   },
   "file_extension": ".py",
   "mimetype": "text/x-python",
   "name": "python",
   "nbconvert_exporter": "python",
   "pygments_lexer": "ipython3",
   "version": "3.7.9"
  }
 },
 "nbformat": 4,
 "nbformat_minor": 5
}
